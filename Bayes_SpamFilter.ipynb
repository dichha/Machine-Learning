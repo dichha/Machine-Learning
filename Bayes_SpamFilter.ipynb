{
 "cells": [
  {
   "cell_type": "code",
   "execution_count": 679,
   "metadata": {
    "collapsed": false
   },
   "outputs": [],
   "source": [
    "%matplotlib inline\n",
    "import numpy as np\n",
    "import pandas as pd\n",
    "import matplotlib.pyplot as plt\n",
    "from sklearn.datasets import load_files\n",
    "import os\n",
    "from sklearn.feature_extraction.text import TfidfTransformer\n",
    "from sklearn.naive_bayes import MultinomialNB\n",
    "\n",
    "\n",
    "\n"
   ]
  },
  {
   "cell_type": "code",
   "execution_count": 680,
   "metadata": {
    "collapsed": false
   },
   "outputs": [],
   "source": [
    "bd = load_files('baise_spamfilter')\n"
   ]
  },
  {
   "cell_type": "code",
   "execution_count": 681,
   "metadata": {
    "collapsed": false
   },
   "outputs": [
    {
     "data": {
      "text/plain": [
       "dict_keys(['DESCR', 'target', 'filenames', 'data', 'target_names'])"
      ]
     },
     "execution_count": 681,
     "metadata": {},
     "output_type": "execute_result"
    }
   ],
   "source": [
    "bd.keys()"
   ]
  },
  {
   "cell_type": "code",
   "execution_count": 682,
   "metadata": {
    "collapsed": false
   },
   "outputs": [
    {
     "data": {
      "text/plain": [
       "14"
      ]
     },
     "execution_count": 682,
     "metadata": {},
     "output_type": "execute_result"
    }
   ],
   "source": [
    "len(bd.data)"
   ]
  },
  {
   "cell_type": "code",
   "execution_count": 683,
   "metadata": {
    "collapsed": true
   },
   "outputs": [],
   "source": [
    "from sklearn.feature_extraction.stop_words import ENGLISH_STOP_WORDS"
   ]
  },
  {
   "cell_type": "code",
   "execution_count": 684,
   "metadata": {
    "collapsed": false
   },
   "outputs": [],
   "source": [
    "#ENGLISH_STOP_WORDS"
   ]
  },
  {
   "cell_type": "code",
   "execution_count": 685,
   "metadata": {
    "collapsed": false
   },
   "outputs": [
    {
     "name": "stdout",
     "output_type": "stream",
     "text": [
      "['ham', 'spam']\n"
     ]
    }
   ],
   "source": [
    "print(bd.target_names)"
   ]
  },
  {
   "cell_type": "code",
   "execution_count": 686,
   "metadata": {
    "collapsed": false
   },
   "outputs": [
    {
     "name": "stdout",
     "output_type": "stream",
     "text": [
      "ham \n",
      "\n",
      " b'\\xef\\xbb\\xbfThis is just a reminder that today from\\xc2\\xa05:30 to 7:30\\xc2\\xa0there will be community members and their children walking through our halls trick or treating.\\xc2\\xa0\\n\\nThere will be signs indicating that rooms with pumpkins on them are handing out candy. If you did not sign up to hand out candy but would like to get involved there will be cookie decorating in the second floor lounge.\\xc2\\xa0\\n\\nLets make sure that the community members leave our hall with not only candy but a great experience as well.\\xc2\\xa0\\n\\nAl\\n\\n'\n"
     ]
    }
   ],
   "source": [
    "print(bd.target_names[bd.target[1]],\"\\n\\n\",bd.data[1])"
   ]
  },
  {
   "cell_type": "code",
   "execution_count": 687,
   "metadata": {
    "collapsed": false
   },
   "outputs": [],
   "source": [
    "from sklearn.feature_extraction.text import TfidfVectorizer\n",
    "vectorizer = TfidfVectorizer(use_idf=False)"
   ]
  },
  {
   "cell_type": "code",
   "execution_count": 688,
   "metadata": {
    "collapsed": false
   },
   "outputs": [],
   "source": [
    "X = vectorizer.fit_transform(bd.data)                            \n",
    "#X #sparse matrix\n",
    "#len(vectorizer.get_feature_names()) #549"
   ]
  },
  {
   "cell_type": "code",
   "execution_count": 689,
   "metadata": {
    "collapsed": false
   },
   "outputs": [
    {
     "name": "stdout",
     "output_type": "stream",
     "text": [
      "document =  0 score =  18 0.0426014322842 25\n",
      "document =  0 score =  21 0.0426014322842 260\n",
      "document =  0 score =  26 0.0426014322842 30\n",
      "document =  0 score =  38 0.0426014322842 60\n",
      "document =  0 score =  46 0.0426014322842 95\n",
      "document =  0 score =  70 0.0426014322842 an\n",
      "document =  0 score =  71 0.255608593705 and\n",
      "document =  0 score =  76 0.0852028645685 are\n",
      "document =  0 score =  78 0.0426014322842 as\n",
      "document =  0 score =  91 0.0426014322842 because\n",
      "document =  0 score =  93 0.0852028645685 before\n",
      "document =  0 score =  95 0.0426014322842 behavior\n",
      "document =  0 score =  99 0.0426014322842 better\n",
      "document =  0 score =  101 0.0426014322842 big\n",
      "document =  0 score =  102 0.0426014322842 billions\n",
      "document =  0 score =  104 0.0426014322842 bombs\n",
      "document =  0 score =  110 0.0426014322842 buy\n",
      "document =  0 score =  152 0.0426014322842 comfort\n",
      "document =  0 score =  154 0.170405729137 companies\n",
      "document =  0 score =  163 0.0426014322842 consumer\n",
      "document =  0 score =  164 0.0852028645685 consumers\n",
      "document =  0 score =  168 0.0426014322842 convince\n",
      "document =  0 score =  170 0.0426014322842 corporations\n",
      "document =  0 score =  172 0.0426014322842 costs\n",
      "document =  0 score =  185 0.0426014322842 dear\n",
      "document =  0 score =  192 0.0426014322842 develop\n",
      "document =  0 score =  196 0.0426014322842 did\n",
      "document =  0 score =  197 0.0426014322842 different\n",
      "document =  0 score =  198 0.0426014322842 directly\n",
      "document =  0 score =  201 0.0426014322842 do\n",
      "document =  0 score =  202 0.0852028645685 dollars\n",
      "document =  0 score =  212 0.0426014322842 earning\n",
      "document =  0 score =  213 0.0426014322842 easier\n",
      "document =  0 score =  227 0.0426014322842 extra\n",
      "document =  0 score =  235 0.0852028645685 fill\n",
      "document =  0 score =  243 0.0426014322842 focus\n",
      "document =  0 score =  245 0.170405729137 for\n",
      "document =  0 score =  252 0.0852028645685 from\n",
      "document =  0 score =  259 0.0852028645685 get\n",
      "document =  0 score =  263 0.0852028645685 giving\n",
      "document =  0 score =  264 0.0426014322842 gladly\n",
      "document =  0 score =  275 0.0426014322842 group\n",
      "document =  0 score =  287 0.0852028645685 have\n",
      "document =  0 score =  296 0.0426014322842 helps\n",
      "document =  0 score =  301 0.0426014322842 home\n",
      "document =  0 score =  307 0.0852028645685 hour\n",
      "document =  0 score =  315 0.0426014322842 if\n",
      "document =  0 score =  319 0.0426014322842 improve\n",
      "document =  0 score =  320 0.0852028645685 in\n",
      "document =  0 score =  323 0.0426014322842 incredible\n",
      "document =  0 score =  325 0.0426014322842 influences\n",
      "document =  0 score =  330 0.0426014322842 internet\n",
      "document =  0 score =  334 0.0426014322842 is\n",
      "document =  0 score =  335 0.170405729137 it\n",
      "document =  0 score =  339 0.0852028645685 just\n",
      "document =  0 score =  343 0.0426014322842 know\n",
      "document =  0 score =  347 0.0426014322842 launch\n",
      "document =  0 score =  355 0.0426014322842 life\n",
      "document =  0 score =  356 0.0426014322842 like\n",
      "document =  0 score =  362 0.0426014322842 lot\n",
      "document =  0 score =  370 0.0426014322842 make\n",
      "document =  0 score =  371 0.0426014322842 making\n",
      "document =  0 score =  372 0.0852028645685 market\n",
      "document =  0 score =  377 0.0426014322842 may\n",
      "document =  0 score =  381 0.0426014322842 meet\n",
      "document =  0 score =  388 0.0426014322842 millions\n",
      "document =  0 score =  391 0.0426014322842 minutes\n",
      "document =  0 score =  395 0.0852028645685 money\n",
      "document =  0 score =  398 0.0426014322842 more\n",
      "document =  0 score =  402 0.0426014322842 most\n",
      "document =  0 score =  409 0.0426014322842 needs\n",
      "document =  0 score =  411 0.0426014322842 new\n",
      "document =  0 score =  424 0.213007161421 of\n",
      "document =  0 score =  425 0.0426014322842 offer\n",
      "document =  0 score =  428 0.170405729137 on\n",
      "document =  0 score =  431 0.0426014322842 online\n",
      "document =  0 score =  434 0.0426014322842 opinion\n",
      "document =  0 score =  435 0.0426014322842 opinions\n",
      "document =  0 score =  436 0.0426014322842 opportunity\n",
      "document =  0 score =  442 0.0852028645685 out\n",
      "document =  0 score =  443 0.0426014322842 over\n",
      "document =  0 score =  444 0.0426014322842 own\n",
      "document =  0 score =  446 0.0852028645685 paid\n",
      "document =  0 score =  447 0.0426014322842 panels\n",
      "document =  0 score =  449 0.0426014322842 participating\n",
      "document =  0 score =  450 0.0426014322842 participation\n",
      "document =  0 score =  452 0.0852028645685 pay\n",
      "document =  0 score =  455 0.0426014322842 people\n",
      "document =  0 score =  456 0.0852028645685 per\n",
      "document =  0 score =  468 0.0426014322842 policies\n",
      "document =  0 score =  471 0.0426014322842 possible\n",
      "document =  0 score =  478 0.0426014322842 product\n",
      "document =  0 score =  479 0.170405729137 products\n",
      "document =  0 score =  496 0.0426014322842 really\n",
      "document =  0 score =  506 0.0426014322842 released\n",
      "document =  0 score =  516 0.0426014322842 research\n",
      "document =  0 score =  537 0.0426014322842 seem\n",
      "document =  0 score =  540 0.0426014322842 sent\n",
      "document =  0 score =  542 0.127804296853 services\n",
      "document =  0 score =  549 0.0852028645685 simple\n",
      "document =  0 score =  553 0.0426014322842 spend\n",
      "document =  0 score =  563 0.0426014322842 student\n",
      "document =  0 score =  570 0.127804296853 surveys\n",
      "document =  0 score =  580 0.0426014322842 testing\n",
      "document =  0 score =  584 0.0426014322842 that\n",
      "document =  0 score =  585 0.255608593705 the\n",
      "document =  0 score =  586 0.0852028645685 their\n",
      "document =  0 score =  587 0.0426014322842 them\n",
      "document =  0 score =  590 0.170405729137 they\n",
      "document =  0 score =  600 0.468615755127 to\n",
      "document =  0 score =  603 0.0426014322842 totally\n",
      "document =  0 score =  613 0.0426014322842 trying\n",
      "document =  0 score =  618 0.0426014322842 unaware\n",
      "document =  0 score =  620 0.0426014322842 understanding\n",
      "document =  0 score =  640 0.0426014322842 way\n",
      "document =  0 score =  653 0.0852028645685 will\n",
      "document =  0 score =  663 0.0426014322842 would\n",
      "document =  0 score =  666 0.0426014322842 year\n",
      "document =  0 score =  668 0.213007161421 you\n",
      "document =  0 score =  669 0.213007161421 your\n"
     ]
    },
    {
     "ename": "IndexError",
     "evalue": "index out of bounds",
     "output_type": "error",
     "traceback": [
      "\u001b[1;31m---------------------------------------------------------------------------\u001b[0m",
      "\u001b[1;31mIndexError\u001b[0m                                Traceback (most recent call last)",
      "\u001b[1;32m<ipython-input-689-8f585ce7cc2c>\u001b[0m in \u001b[0;36m<module>\u001b[1;34m()\u001b[0m\n\u001b[0;32m      2\u001b[0m \u001b[1;32mfor\u001b[0m \u001b[0mi\u001b[0m \u001b[1;32min\u001b[0m \u001b[0mrange\u001b[0m\u001b[1;33m(\u001b[0m\u001b[1;36m14\u001b[0m\u001b[1;33m)\u001b[0m\u001b[1;33m:\u001b[0m\u001b[1;33m\u001b[0m\u001b[0m\n\u001b[0;32m      3\u001b[0m     \u001b[1;32mfor\u001b[0m \u001b[0mj\u001b[0m \u001b[1;32min\u001b[0m \u001b[0mrange\u001b[0m\u001b[1;33m(\u001b[0m\u001b[1;36m1082\u001b[0m\u001b[1;33m)\u001b[0m\u001b[1;33m:\u001b[0m\u001b[1;33m\u001b[0m\u001b[0m\n\u001b[1;32m----> 4\u001b[1;33m         \u001b[1;32mif\u001b[0m \u001b[0mX\u001b[0m\u001b[1;33m[\u001b[0m\u001b[0mi\u001b[0m\u001b[1;33m,\u001b[0m\u001b[0mj\u001b[0m\u001b[1;33m]\u001b[0m \u001b[1;33m!=\u001b[0m \u001b[1;36m0.0\u001b[0m\u001b[1;33m:\u001b[0m\u001b[1;33m\u001b[0m\u001b[0m\n\u001b[0m\u001b[0;32m      5\u001b[0m             \u001b[0mprint\u001b[0m\u001b[1;33m(\u001b[0m\u001b[1;34m\"document = \"\u001b[0m\u001b[1;33m,\u001b[0m \u001b[0mi\u001b[0m\u001b[1;33m,\u001b[0m \u001b[1;34m\"score = \"\u001b[0m\u001b[1;33m,\u001b[0m\u001b[0mj\u001b[0m\u001b[1;33m,\u001b[0m\u001b[0mX\u001b[0m\u001b[1;33m[\u001b[0m\u001b[0mi\u001b[0m\u001b[1;33m,\u001b[0m\u001b[0mj\u001b[0m\u001b[1;33m]\u001b[0m\u001b[1;33m,\u001b[0m \u001b[0mvectorizer\u001b[0m\u001b[1;33m.\u001b[0m\u001b[0mget_feature_names\u001b[0m\u001b[1;33m(\u001b[0m\u001b[1;33m)\u001b[0m\u001b[1;33m[\u001b[0m\u001b[0mj\u001b[0m\u001b[1;33m]\u001b[0m\u001b[1;33m)\u001b[0m\u001b[1;33m\u001b[0m\u001b[0m\n",
      "\u001b[1;32m/usr/local/lib/python3.4/dist-packages/scipy/sparse/csr.py\u001b[0m in \u001b[0;36m__getitem__\u001b[1;34m(self, key)\u001b[0m\n\u001b[0;32m    267\u001b[0m             \u001b[1;31m# [i, j]\u001b[0m\u001b[1;33m\u001b[0m\u001b[1;33m\u001b[0m\u001b[0m\n\u001b[0;32m    268\u001b[0m             \u001b[1;32mif\u001b[0m \u001b[0misintlike\u001b[0m\u001b[1;33m(\u001b[0m\u001b[0mcol\u001b[0m\u001b[1;33m)\u001b[0m\u001b[1;33m:\u001b[0m\u001b[1;33m\u001b[0m\u001b[0m\n\u001b[1;32m--> 269\u001b[1;33m                 \u001b[1;32mreturn\u001b[0m \u001b[0mself\u001b[0m\u001b[1;33m.\u001b[0m\u001b[0m_get_single_element\u001b[0m\u001b[1;33m(\u001b[0m\u001b[0mrow\u001b[0m\u001b[1;33m,\u001b[0m \u001b[0mcol\u001b[0m\u001b[1;33m)\u001b[0m\u001b[1;33m\u001b[0m\u001b[0m\n\u001b[0m\u001b[0;32m    270\u001b[0m             \u001b[1;31m# [i, 1:2]\u001b[0m\u001b[1;33m\u001b[0m\u001b[1;33m\u001b[0m\u001b[0m\n\u001b[0;32m    271\u001b[0m             \u001b[1;32melif\u001b[0m \u001b[0misinstance\u001b[0m\u001b[1;33m(\u001b[0m\u001b[0mcol\u001b[0m\u001b[1;33m,\u001b[0m \u001b[0mslice\u001b[0m\u001b[1;33m)\u001b[0m\u001b[1;33m:\u001b[0m\u001b[1;33m\u001b[0m\u001b[0m\n",
      "\u001b[1;32m/usr/local/lib/python3.4/dist-packages/scipy/sparse/compressed.py\u001b[0m in \u001b[0;36m_get_single_element\u001b[1;34m(self, row, col)\u001b[0m\n\u001b[0;32m    825\u001b[0m             \u001b[0mcol\u001b[0m \u001b[1;33m+=\u001b[0m \u001b[0mN\u001b[0m\u001b[1;33m\u001b[0m\u001b[0m\n\u001b[0;32m    826\u001b[0m         \u001b[1;32mif\u001b[0m \u001b[1;32mnot\u001b[0m \u001b[1;33m(\u001b[0m\u001b[1;36m0\u001b[0m \u001b[1;33m<=\u001b[0m \u001b[0mrow\u001b[0m \u001b[1;33m<\u001b[0m \u001b[0mM\u001b[0m\u001b[1;33m)\u001b[0m \u001b[1;32mor\u001b[0m \u001b[1;32mnot\u001b[0m \u001b[1;33m(\u001b[0m\u001b[1;36m0\u001b[0m \u001b[1;33m<=\u001b[0m \u001b[0mcol\u001b[0m \u001b[1;33m<\u001b[0m \u001b[0mN\u001b[0m\u001b[1;33m)\u001b[0m\u001b[1;33m:\u001b[0m\u001b[1;33m\u001b[0m\u001b[0m\n\u001b[1;32m--> 827\u001b[1;33m             \u001b[1;32mraise\u001b[0m \u001b[0mIndexError\u001b[0m\u001b[1;33m(\u001b[0m\u001b[1;34m\"index out of bounds\"\u001b[0m\u001b[1;33m)\u001b[0m\u001b[1;33m\u001b[0m\u001b[0m\n\u001b[0m\u001b[0;32m    828\u001b[0m \u001b[1;33m\u001b[0m\u001b[0m\n\u001b[0;32m    829\u001b[0m         \u001b[0mmajor_index\u001b[0m\u001b[1;33m,\u001b[0m \u001b[0mminor_index\u001b[0m \u001b[1;33m=\u001b[0m \u001b[0mself\u001b[0m\u001b[1;33m.\u001b[0m\u001b[0m_swap\u001b[0m\u001b[1;33m(\u001b[0m\u001b[1;33m(\u001b[0m\u001b[0mrow\u001b[0m\u001b[1;33m,\u001b[0m\u001b[0mcol\u001b[0m\u001b[1;33m)\u001b[0m\u001b[1;33m)\u001b[0m\u001b[1;33m\u001b[0m\u001b[0m\n",
      "\u001b[1;31mIndexError\u001b[0m: index out of bounds"
     ]
    }
   ],
   "source": [
    "\n",
    "for i in range(14):\n",
    "    for j in range(1082):\n",
    "        if X[i,j] != 0.0:\n",
    "            print(\"document = \", i, \"score = \",j,X[i,j], vectorizer.get_feature_names()[j])"
   ]
  },
  {
   "cell_type": "code",
   "execution_count": 690,
   "metadata": {
    "collapsed": false
   },
   "outputs": [
    {
     "data": {
      "text/plain": [
       "['bombs', 'bonusmail', 'break', 'broad', 'business', 'but']"
      ]
     },
     "execution_count": 690,
     "metadata": {},
     "output_type": "execute_result"
    }
   ],
   "source": [
    "wordList = vectorizer.get_feature_names()   \n",
    "wordList[104:110]\n",
    "    "
   ]
  },
  {
   "cell_type": "code",
   "execution_count": 691,
   "metadata": {
    "collapsed": false
   },
   "outputs": [
    {
     "data": {
      "text/plain": [
       "b'\\xef\\xbb\\xbfHello,\\xc2\\xa0\\n\\nI have over 5 years of transcription experience and have been supporting several clients with their transcription requirements. I assure you of quality work and most importantly confidentiality of all the proprietary information / materials. All the work is deleted from our systems as soon as the transcription is completed to the satisfaction of our client.\\xc2\\xa0\\n\\nI do sign an NDA if so required. I offer a very low rate of USD 0.60 per audio minute and audios can be transcribed and returned within 24-48 hrs time. What I can also do is a sample transcript and if the sample is to your satisfaction, then we can take it forward from there.\\n\\nPayment can be made only if you are satisfied with the work and the payment mode could be PayPal, wire transfer or any other means as per your convenience. Let me know what is a good time to call you and discuss this further.\\xc2\\xa0\\n\\nLooking forward to hearing from you soon and working for you and once again I assure you of quality work and confidentiality of information.\\xc2\\xa0\\n\\nRegards,\\xc2\\xa0\\nGina Smith\\n'"
      ]
     },
     "execution_count": 691,
     "metadata": {},
     "output_type": "execute_result"
    }
   ],
   "source": [
    "#look at raw documents and then print out all of the non-zer entries in \n",
    "#that row of the matrx\n",
    "bd.data[3]"
   ]
  },
  {
   "cell_type": "code",
   "execution_count": 692,
   "metadata": {
    "collapsed": false
   },
   "outputs": [],
   "source": [
    "#Word frequency value for a particular word in a particular document\n",
    "wordList = vectorizer.get_feature_names()\n",
    "wordList = [w for w in wordList if not w in ENGLISH_STOP_WORDS]\n",
    "#len(wordList)#549"
   ]
  },
  {
   "cell_type": "code",
   "execution_count": 693,
   "metadata": {
    "collapsed": false
   },
   "outputs": [
    {
     "name": "stdout",
     "output_type": "stream",
     "text": [
      "24\n",
      "48\n",
      "60\n",
      "aid\n",
      "american\n",
      "annual\n",
      "assistant\n",
      "assure\n",
      "audio\n",
      "authorize\n",
      "begin\n",
      "best\n",
      "billions\n",
      "bills\n",
      "business\n",
      "ca\n",
      "choose\n",
      "city\n",
      "contact\n",
      "continue\n",
      "date\n",
      "deadline\n",
      "department\n",
      "did\n",
      "email\n",
      "fall\n",
      "fax\n",
      "giving\n",
      "hate\n",
      "having\n",
      "help\n",
      "hk\n",
      "hosting\n",
      "important\n",
      "keeping\n",
      "kyle\n",
      "launch\n",
      "love\n",
      "make\n",
      "materials\n",
      "members\n",
      "mode\n",
      "modeling\n",
      "mypoints\n",
      "november\n",
      "open\n",
      "opposite\n",
      "paid\n",
      "pay\n",
      "phone\n",
      "pieces\n",
      "possible\n",
      "privacy\n",
      "programs\n",
      "pumpkin\n",
      "released\n",
      "reminder\n",
      "reply\n",
      "required\n",
      "richard\n",
      "room\n",
      "rooms\n",
      "sample\n",
      "seeing\n",
      "semester\n",
      "sent\n",
      "t2x\n",
      "testing\n",
      "things\n",
      "today\n",
      "unaware\n",
      "understanding\n",
      "usd\n",
      "view\n",
      "walking\n",
      "wan\n",
      "write\n",
      "year\n"
     ]
    }
   ],
   "source": [
    "for i in range(len(wordList)):\n",
    "    if(X[3,i] != 0.0):\n",
    "        print(wordList[i])\n",
    "    "
   ]
  },
  {
   "cell_type": "code",
   "execution_count": 694,
   "metadata": {
    "collapsed": false
   },
   "outputs": [],
   "source": [
    "#idx = wordList.index('fax')\n",
    "#idx\n",
    "#finding idx\n",
    "def search_word(sen):\n",
    "    words = sen.split()\n",
    "    #print(words)\n",
    "    prevword = []\n",
    "    for w in words:\n",
    "        if w in wordList:\n",
    "            prevword.append(w)\n",
    "    return prevword\n"
   ]
  },
  {
   "cell_type": "code",
   "execution_count": 695,
   "metadata": {
    "collapsed": true
   },
   "outputs": [],
   "source": [
    "def find_idx(wordarray):\n",
    "    #print(wordarray)\n",
    "    idxarray = []\n",
    "    for word in wordarray:\n",
    "        idx = wordList.index(word)\n",
    "        idxarray.append(idx)\n",
    "    return idxarray"
   ]
  },
  {
   "cell_type": "code",
   "execution_count": 696,
   "metadata": {
    "collapsed": false
   },
   "outputs": [],
   "source": [
    "def find_class(idxarray):\n",
    "    class_hs = {} #dictionay of class and probability\n",
    "    class_score = []\n",
    "    for j in idxarray:#finding words in all docs\n",
    "        for i in range(14): \n",
    "            #print(j)\n",
    "            if(X[i,j] != 0.0):\n",
    "                c_hs = bd.target_names[bd.target[i]]#class for the ith doc\n",
    "                score = X[i,j]\n",
    "                t = c_hs,score,j\n",
    "                #print(c_hs)\n",
    "                #print(score)\n",
    "                #class_hs[c_hs] = score\n",
    "                \n",
    "                class_score.append(t)\n",
    "    return class_score\n",
    "    #if X[i,201] != 0.0:\n",
    "        #print(\"fax appears in document\", i,\"with score\",X[i,idx])\n",
    "#finding index of words\n",
    "\n",
    "        \n",
    "        "
   ]
  },
  {
   "cell_type": "code",
   "execution_count": 697,
   "metadata": {
    "collapsed": true
   },
   "outputs": [],
   "source": [
    "def ham_prob(hammy):\n",
    "    ham_idx = []\n",
    "    for i in hammy:\n",
    "        ham_idx.append(i[2])\n",
    "    #print(ham_idx)\n",
    "    prob = 1\n",
    "    for i in range(14):    \n",
    "        for j in range(550):\n",
    "            if (j not in ham_idx) and (bd.target_names[bd.target[i]] == 'ham') and (X[i,j] != 0.0):\n",
    "                dif = (1-(X[i,j]))\n",
    "                #print(\"dif = \", dif)\n",
    "                prob *= dif\n",
    "                \n",
    "    for i in ham_idx:\n",
    "        prob *= i\n",
    "    return prob\n",
    "                "
   ]
  },
  {
   "cell_type": "code",
   "execution_count": 698,
   "metadata": {
    "collapsed": true
   },
   "outputs": [],
   "source": [
    "def spam_prob(spammy):\n",
    "    spam_idx = []\n",
    "    for i in spammy:\n",
    "        spam_idx.append(i[2])\n",
    "    #print(spam_idx)\n",
    "    prob = 1\n",
    "    for i in range(14):    \n",
    "        for j in range(550):\n",
    "            if (j not in spam_idx) and (bd.target_names[bd.target[i]] == 'spam') and (X[i,j] != 0.0):\n",
    "                dif = (1-(X[i,j]))\n",
    "                #print(\"dif = \", dif)\n",
    "                prob *= dif\n",
    "                \n",
    "    for i in spam_idx:\n",
    "        prob *= i\n",
    "    return prob"
   ]
  },
  {
   "cell_type": "code",
   "execution_count": 699,
   "metadata": {
    "collapsed": false
   },
   "outputs": [],
   "source": [
    "word_array = search_word(\"I would like to work in the web development project\")\n",
    "#word_array"
   ]
  },
  {
   "cell_type": "code",
   "execution_count": 700,
   "metadata": {
    "collapsed": false
   },
   "outputs": [],
   "source": [
    "idx_array = find_idx(word_array)\n",
    "#idx_array"
   ]
  },
  {
   "cell_type": "code",
   "execution_count": 701,
   "metadata": {
    "collapsed": false
   },
   "outputs": [],
   "source": [
    "cs_tuple = find_class(idx_array)\n",
    "#cs_tuple\n",
    "hammy = []\n",
    "spammy = []\n",
    "for i in cs_tuple:\n",
    "    if (i[0] == 'ham'):\n",
    "        hammy.append(i)\n",
    "    #print(hammy)\n",
    "    else:\n",
    "        spammy.append(i)\n",
    "#print(hammy)\n",
    "        \n",
    "h_prob = ham_prob(hammy)\n",
    "s_prob = spam_prob(spammy)\n",
    "\n",
    "#prior probability for ham is .20 and spam is .80\n",
    "ham = (h_prob*.20)/((h_prob*.20)+(s_prob*.80)) \n",
    "#ham\n",
    "spam = (s_prob*.80)/((s_prob*.80)+(h_prob*.20))\n",
    "#spam\n",
    "\n",
    "\n"
   ]
  },
  {
   "cell_type": "code",
   "execution_count": 702,
   "metadata": {
    "collapsed": false
   },
   "outputs": [
    {
     "name": "stdout",
     "output_type": "stream",
     "text": [
      "Ham probability is : 0.99681\n",
      "Spam probability is : 0.00319\n",
      "The email is ham.\n"
     ]
    }
   ],
   "source": [
    "print(\"Ham probability is : %.5f\" %ham)\n",
    "print(\"Spam probability is : %.5f\" %spam)\n",
    "if(spam > ham):\n",
    "    print(\"The email is spam\")\n",
    "else:\n",
    "    print(\"The email is ham.\")"
   ]
  },
  {
   "cell_type": "code",
   "execution_count": 703,
   "metadata": {
    "collapsed": true
   },
   "outputs": [],
   "source": [
    "word_array = search_word(\"You can view it by clicking here\")"
   ]
  },
  {
   "cell_type": "code",
   "execution_count": 704,
   "metadata": {
    "collapsed": true
   },
   "outputs": [],
   "source": [
    "idx_array = find_idx(word_array)\n",
    "#idx_array"
   ]
  },
  {
   "cell_type": "code",
   "execution_count": 705,
   "metadata": {
    "collapsed": true
   },
   "outputs": [],
   "source": [
    "cs_tuple = find_class(idx_array)\n",
    "#cs_tuple\n",
    "hammy = []\n",
    "spammy = []\n",
    "for i in cs_tuple:\n",
    "    if (i[0] == 'ham'):\n",
    "        hammy.append(i)\n",
    "    #print(hammy)\n",
    "    else:\n",
    "        spammy.append(i)\n",
    "#print(hammy)\n",
    "        \n",
    "h_prob = ham_prob(hammy)\n",
    "s_prob = spam_prob(spammy)\n",
    "\n",
    "#prior probability for both ham is .20 and spam is .80\n",
    "ham = (h_prob*.20)/((h_prob*.20)+(s_prob*.80)) \n",
    "#ham\n",
    "spam = (s_prob*.80)/((s_prob*.80)+(h_prob*.20))\n",
    "#spam"
   ]
  },
  {
   "cell_type": "code",
   "execution_count": 706,
   "metadata": {
    "collapsed": false
   },
   "outputs": [
    {
     "name": "stdout",
     "output_type": "stream",
     "text": [
      "Ham probability is : 0.00004\n",
      "Spam probability is : 0.99996\n",
      "The email is spam\n"
     ]
    }
   ],
   "source": [
    "print(\"Ham probability is : %.5f\" %ham)\n",
    "print(\"Spam probability is : %.5f\" %spam)\n",
    "if(spam > ham):\n",
    "    print(\"The email is spam\")\n",
    "else:\n",
    "    print(\"The email is ham.\")"
   ]
  },
  {
   "cell_type": "code",
   "execution_count": null,
   "metadata": {
    "collapsed": false
   },
   "outputs": [],
   "source": [
    "vectorizer.inverse_transform(X)[3]"
   ]
  },
  {
   "cell_type": "code",
   "execution_count": null,
   "metadata": {
    "collapsed": false
   },
   "outputs": [],
   "source": [
    "#data_path = os.path.abspath(os.path.join('baise_spamfilter'))\n",
    "#spam_path = os.path.join(data_path,'spam')\n",
    "#ham_path = os.path.join(data_path,'ham')    "
   ]
  },
  {
   "cell_type": "code",
   "execution_count": null,
   "metadata": {
    "collapsed": false
   },
   "outputs": [],
   "source": [
    "#def get_msg(path):\n",
    "    #with open(path) as con:\n",
    "        #msg = con.readlines()\n",
    "        #return ''.join(msg)"
   ]
  },
  {
   "cell_type": "code",
   "execution_count": null,
   "metadata": {
    "collapsed": false
   },
   "outputs": [],
   "source": [
    "#def get_msgdir(path):\n",
    "    #filelist = os.listdir(path)\n",
    "    #filelist = filter(lambda x: x != 'cmds', filelist)\n",
    "    #all_msgs = [get_msg(os.path.join(path,f)) for f in filelist]\n",
    "    #return all_msgs"
   ]
  },
  {
   "cell_type": "code",
   "execution_count": null,
   "metadata": {
    "collapsed": false
   },
   "outputs": [],
   "source": [
    "#all_spam = get_msgdir(spam_path)\n",
    "#print(all_spam)\n",
    "#all_ham = get_msgdir(ham_path)"
   ]
  },
  {
   "cell_type": "code",
   "execution_count": null,
   "metadata": {
    "collapsed": false
   },
   "outputs": [],
   "source": [
    "#bag-of-words counts for the entire SMS corpus\n",
    "#print('sparse matrix shape:', X.shape)\n",
    "#print('number of non-seros:', X.nnz)\n",
    "#print('sparsity: %.2f%%' % (100.0 * X.nnz / \n",
    "                            #(X.shape[0] * \n",
    "                            #X.shape[1])))\n"
   ]
  },
  {
   "cell_type": "code",
   "execution_count": null,
   "metadata": {
    "collapsed": true
   },
   "outputs": [],
   "source": []
  },
  {
   "cell_type": "code",
   "execution_count": null,
   "metadata": {
    "collapsed": false
   },
   "outputs": [],
   "source": []
  },
  {
   "cell_type": "code",
   "execution_count": null,
   "metadata": {
    "collapsed": true
   },
   "outputs": [],
   "source": []
  },
  {
   "cell_type": "code",
   "execution_count": null,
   "metadata": {
    "collapsed": true
   },
   "outputs": [],
   "source": []
  },
  {
   "cell_type": "code",
   "execution_count": null,
   "metadata": {
    "collapsed": true
   },
   "outputs": [],
   "source": []
  },
  {
   "cell_type": "code",
   "execution_count": null,
   "metadata": {
    "collapsed": true
   },
   "outputs": [],
   "source": []
  },
  {
   "cell_type": "code",
   "execution_count": null,
   "metadata": {
    "collapsed": true
   },
   "outputs": [],
   "source": []
  },
  {
   "cell_type": "code",
   "execution_count": null,
   "metadata": {
    "collapsed": true
   },
   "outputs": [],
   "source": []
  },
  {
   "cell_type": "code",
   "execution_count": null,
   "metadata": {
    "collapsed": true
   },
   "outputs": [],
   "source": []
  }
 ],
 "metadata": {
  "kernelspec": {
   "display_name": "Python 3",
   "language": "python",
   "name": "python3"
  },
  "language_info": {
   "codemirror_mode": {
    "name": "ipython",
    "version": 3
   },
   "file_extension": ".py",
   "mimetype": "text/x-python",
   "name": "python",
   "nbconvert_exporter": "python",
   "pygments_lexer": "ipython3",
   "version": "3.4.3"
  }
 },
 "nbformat": 4,
 "nbformat_minor": 0
}
